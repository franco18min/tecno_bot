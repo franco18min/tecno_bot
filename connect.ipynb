{
 "cells": [
  {
   "metadata": {},
   "cell_type": "markdown",
   "source": "Conexion a wpp web",
   "id": "aefdf68e7b358138"
  },
  {
   "cell_type": "code",
   "id": "b47f8dfc094e705e",
   "metadata": {
    "ExecuteTime": {
     "end_time": "2025-04-24T22:38:03.237494Z",
     "start_time": "2025-04-24T22:38:03.231404Z"
    }
   },
   "source": [
    "from selenium import webdriver\n",
    "from webdriver_manager.chrome import ChromeDriverManager\n",
    "from selenium.webdriver.chrome.service import Service"
   ],
   "outputs": [],
   "execution_count": 6
  },
  {
   "metadata": {
    "collapsed": true,
    "ExecuteTime": {
     "end_time": "2025-04-24T22:43:07.761469Z",
     "start_time": "2025-04-24T22:39:20.771502Z"
    }
   },
   "cell_type": "code",
   "source": [
    "# Configura el servicio con la ruta del ChromeDriver\n",
    "service = Service(ChromeDriverManager().install())\n",
    "\n",
    "# Inicializa el driver con el servicio\n",
    "driver = webdriver.Chrome(service=service)\n",
    "\n",
    "driver.get(\"https://web.whatsapp.com\")\n",
    "input(\"Presiona Enter después de escanear el código QR\")"
   ],
   "id": "initial_id",
   "outputs": [
    {
     "data": {
      "text/plain": [
       "''"
      ]
     },
     "execution_count": 8,
     "metadata": {},
     "output_type": "execute_result"
    }
   ],
   "execution_count": 8
  },
  {
   "metadata": {},
   "cell_type": "code",
   "outputs": [],
   "execution_count": null,
   "source": "",
   "id": "c7e0bbb26447564a"
  }
 ],
 "metadata": {
  "kernelspec": {
   "display_name": "Python 3",
   "language": "python",
   "name": "python3"
  },
  "language_info": {
   "codemirror_mode": {
    "name": "ipython",
    "version": 2
   },
   "file_extension": ".py",
   "mimetype": "text/x-python",
   "name": "python",
   "nbconvert_exporter": "python",
   "pygments_lexer": "ipython2",
   "version": "2.7.6"
  }
 },
 "nbformat": 4,
 "nbformat_minor": 5
}
