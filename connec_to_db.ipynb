{
 "cells": [
  {
   "cell_type": "code",
   "id": "2edd2b2788dc5a6e",
   "metadata": {
    "ExecuteTime": {
     "end_time": "2025-05-06T23:50:12.345383Z",
     "start_time": "2025-05-06T23:50:12.279470Z"
    }
   },
   "source": [
    "import psycopg2\n",
    "import pandas as pd\n",
    "# Configuración de conexión\n",
    "conn_params = {\n",
    "    'dbname': 'tecno_bot',\n",
    "    'user': 'postgres',\n",
    "    'password': 'franco',\n",
    "    'host': 'localhost',\n",
    "    'port': 5432\n",
    "}\n",
    "\n",
    "# Conectar y consultar\n",
    "try:\n",
    "    conn = psycopg2.connect(**conn_params)\n",
    "    cursor = conn.cursor()\n",
    "\n",
    "    # Ejemplo: Consultar tabla 'ventas'\n",
    "    cursor.execute('SELECT \"Número\", \"Tipo\" FROM ventas WHERE \"Número\" = 4760;')\n",
    "    pedido = cursor.fetchone()\n",
    "    print(\"Pedido encontrado:\", pedido)\n",
    "\n",
    "except Exception as e:\n",
    "    print(\"Error:\", e)\n",
    "finally:\n",
    "    if conn:\n",
    "        cursor.close()\n",
    "        conn.close()"
   ],
   "outputs": [
    {
     "name": "stdout",
     "output_type": "stream",
     "text": [
      "Pedido encontrado: (4760, 'RM X 00012 00004760')\n"
     ]
    }
   ],
   "execution_count": 2
  },
  {
   "metadata": {},
   "cell_type": "code",
   "outputs": [],
   "execution_count": null,
   "source": "",
   "id": "b1971113eba449e3"
  }
 ],
 "metadata": {
  "kernelspec": {
   "display_name": "Python 3",
   "language": "python",
   "name": "python3"
  },
  "language_info": {
   "codemirror_mode": {
    "name": "ipython",
    "version": 2
   },
   "file_extension": ".py",
   "mimetype": "text/x-python",
   "name": "python",
   "nbconvert_exporter": "python",
   "pygments_lexer": "ipython2",
   "version": "2.7.6"
  }
 },
 "nbformat": 4,
 "nbformat_minor": 5
}
