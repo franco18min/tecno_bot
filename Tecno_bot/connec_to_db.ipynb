{
 "cells": [
  {
   "cell_type": "code",
   "id": "2edd2b2788dc5a6e",
   "metadata": {
    "ExecuteTime": {
     "end_time": "2025-04-26T15:45:30.099881Z",
     "start_time": "2025-04-26T15:45:18.910332Z"
    }
   },
   "source": "import psycopg2",
   "outputs": [],
   "execution_count": 2
  },
  {
   "metadata": {
    "ExecuteTime": {
     "end_time": "2025-04-26T16:57:17.569248Z",
     "start_time": "2025-04-26T16:57:17.097585Z"
    }
   },
   "cell_type": "code",
   "source": [
    "# Configuración de conexión\n",
    "conn_params = {\n",
    "    'dbname': 'postgres',\n",
    "    'user': 'postgres',\n",
    "    'password': 'franco18',\n",
    "    'host': 'localhost',\n",
    "    'port': 5432\n",
    "}\n",
    "\n",
    "# Verificar conexión\n",
    "try:\n",
    "    conn = psycopg2.connect(**conn_params)\n",
    "    print(\"Conexión exitosa a la base de datos.\")\n",
    "    cursor = conn.cursor()\n",
    "\n",
    "    # Ejemplo: Consultar tabla 'ventas'\n",
    "    cursor.execute(\"SELECT 1;\")  # Consulta simple para verificar conexión\n",
    "    print(\"Consulta ejecutada correctamente.\")\n",
    "\n",
    "except Exception as e:\n",
    "    print(\"Error al conectar a la base de datos:\", e)\n",
    "\n",
    "finally:\n",
    "    if 'conn' in locals() and conn:\n",
    "        cursor.close()\n",
    "        conn.close()\n",
    "        print(\"Conexión cerrada.\")"
   ],
   "id": "4956c2acd5d12f62",
   "outputs": [
    {
     "name": "stdout",
     "output_type": "stream",
     "text": [
      "Conexión exitosa a la base de datos.\n",
      "Consulta ejecutada correctamente.\n",
      "Conexión cerrada.\n"
     ]
    }
   ],
   "execution_count": 7
  },
  {
   "metadata": {
    "ExecuteTime": {
     "end_time": "2025-04-26T16:54:37.507680Z",
     "start_time": "2025-04-26T16:54:34.949546Z"
    }
   },
   "cell_type": "code",
   "source": [
    "\n",
    "# Configuración de conexión\n",
    "conn_params = {\n",
    "    'dbname': 'postgres@localhost',\n",
    "    'user': 'postgres',\n",
    "    'password': 'franco18',\n",
    "    'host': 'localhost',\n",
    "    'port': 5432\n",
    "}\n",
    "\n",
    "# Conectar y consultar\n",
    "try:\n",
    "    conn = psycopg2.connect(**conn_params)\n",
    "    cursor = conn.cursor()\n",
    "\n",
    "    # Ejemplo: Consultar tabla 'ventas'\n",
    "    cursor.execute(\"SELECT * FROM ventas WHERE numero_orden = %s\", (\"12345\",))\n",
    "    pedido = cursor.fetchone()\n",
    "    print(\"Pedido encontrado:\", pedido)\n",
    "\n",
    "except Exception as e:\n",
    "    print(\"Error:\", e)\n",
    "finally:\n",
    "    if conn:\n",
    "        cursor.close()\n",
    "        conn.close()"
   ],
   "id": "47ae5dcb58402706",
   "outputs": [
    {
     "name": "stdout",
     "output_type": "stream",
     "text": [
      "Conexión exitosa a la base de datos.\n",
      "Consulta ejecutada correctamente.\n",
      "Conexión cerrada.\n"
     ]
    }
   ],
   "execution_count": 6
  }
 ],
 "metadata": {
  "kernelspec": {
   "display_name": "Python 3",
   "language": "python",
   "name": "python3"
  },
  "language_info": {
   "codemirror_mode": {
    "name": "ipython",
    "version": 2
   },
   "file_extension": ".py",
   "mimetype": "text/x-python",
   "name": "python",
   "nbconvert_exporter": "python",
   "pygments_lexer": "ipython2",
   "version": "2.7.6"
  }
 },
 "nbformat": 4,
 "nbformat_minor": 5
}
